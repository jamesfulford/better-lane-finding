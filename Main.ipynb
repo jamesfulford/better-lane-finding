{
 "cells": [
  {
   "cell_type": "markdown",
   "metadata": {},
   "source": [
    "# Advanced Lane Finding Project\n",
    "\n",
    "The goals / steps of this project are the following:\n",
    "\n",
    "- [x] Compute the camera calibration matrix and distortion coefficients given a set of chessboard images.\n",
    "- [x] Apply a distortion correction to raw images.\n",
    "- [x] Use color transforms, gradients, etc., to create a thresholded binary image.\n",
    "- [ ] Apply a perspective transform to rectify binary image (\"birds-eye view\").\n",
    "- [ ] Detect lane pixels and fit to find the lane boundary.\n",
    "- [ ] Determine the curvature of the lane and vehicle position with respect to center.\n",
    "- [ ] Warp the detected lane boundaries back onto the original image.\n",
    "- [ ] Output visual display of the lane boundaries and numerical estimation of lane curvature and vehicle position."
   ]
  },
  {
   "cell_type": "markdown",
   "metadata": {},
   "source": [
    "## Imports"
   ]
  },
  {
   "cell_type": "code",
   "execution_count": null,
   "metadata": {},
   "outputs": [],
   "source": [
    "# builtins\n",
    "from glob import glob\n",
    "import functools\n",
    "import os\n",
    "\n",
    "# third-party\n",
    "import cv2\n",
    "import numpy as np\n",
    "import matplotlib.pyplot as plt\n",
    "%matplotlib inline\n",
    "\n",
    "# project-specific\n",
    "from src.calibrate import calibrate\n",
    "from src.thresholding import region_of_interest, thresh, and_binary, or_binary\n",
    "from src.image_mappings import direction, magnitude"
   ]
  },
  {
   "cell_type": "markdown",
   "metadata": {},
   "source": [
    "## Calibration"
   ]
  },
  {
   "cell_type": "code",
   "execution_count": null,
   "metadata": {},
   "outputs": [],
   "source": [
    "print(\"Finding all calibration images...\")\n",
    "calibration_image_paths = sorted(glob('./camera_cal/calibration*.jpg'), key=lambda p: (len(p), p))\n",
    "calibration_images = list(map(cv2.imread, calibration_image_paths))\n",
    "for path, image in zip(calibration_image_paths, calibration_images):\n",
    "    print(\"{0} ({1[0]}w, {1[1]}h)\".format(\n",
    "        os.path.basename(path),\n",
    "        image.shape\n",
    "    ))\n",
    "print(\"Found {} images.\".format(len(calibration_images)))\n",
    "\n",
    "print(\"Calibrating...\")\n",
    "used_calibration_images, object_points, all_corners, undistort, mtx, dist = calibrate(\n",
    "    calibration_images, \n",
    "    chessboard_dimensions=(9, 6), \n",
    "    to_grayscale_flag=cv2.COLOR_BGR2GRAY\n",
    ")\n",
    "print(\"Calibrated using {} chessboard images (was unable to use {} images).\".format(\n",
    "    len(used_calibration_images), len(calibration_images) - len(used_calibration_images)\n",
    "))\n",
    "\n",
    "print(\"Writing to output_images/chessboards...\")\n",
    "directory = \"output_images/chessboards\"\n",
    "try:\n",
    "    os.mkdir(directory)\n",
    "except:\n",
    "    pass\n",
    "\n",
    "for image, corners, i in zip(used_calibration_images, all_corners, range(len(used_calibration_images))):\n",
    "    img = cv2.drawChessboardCorners(image, (9, 6), corners, True)\n",
    "    cv2.imwrite(directory + \"/{}.before.jpg\".format(i), cv2.cvtColor(img, cv2.COLOR_RGB2BGR))\n",
    "    out = undistort(img)\n",
    "    cv2.imwrite(directory + \"/{}.after.jpg\".format(i), cv2.cvtColor(out, cv2.COLOR_RGB2BGR))\n",
    "    if i == 0:\n",
    "        plt.imshow(out)\n",
    "\n",
    "print(\"Written. Sample output with corners drawn:\")"
   ]
  },
  {
   "cell_type": "markdown",
   "metadata": {},
   "source": [
    "## Thresholding"
   ]
  },
  {
   "cell_type": "code",
   "execution_count": null,
   "metadata": {},
   "outputs": [],
   "source": [
    "print(\"Defining image selectors...\")\n",
    "# Yes. Lots of fiddling with numbers happened here. Can't wait for ML approach.\n",
    "    \n",
    "def asphalt_selector(img, convert_to_hls_flag=cv2.COLOR_BGR2HLS, convert_to_gray_flag=cv2.COLOR_BGR2GRAY):\n",
    "    hls = cv2.cvtColor(img, convert_to_hls_flag)\n",
    "    gray = cv2.cvtColor(img, convert_to_gray_flag)\n",
    "    return and_binary(\n",
    "        thresh(direction(\n",
    "            thresh(\n",
    "                hls[:,:,1], \n",
    "                (140, 240)\n",
    "            ), \n",
    "            sobel_kernel=5\n",
    "        ), (0.7, 1.2)),\n",
    "        # &\n",
    "        thresh(magnitude(\n",
    "            gray, \n",
    "            sobel_kernel=13\n",
    "        ), (100, 256)),\n",
    "    )\n",
    "\n",
    "def concrete_selector(img, convert_to_hls_flag=cv2.COLOR_BGR2HLS, convert_to_gray_flag=cv2.COLOR_BGR2GRAY):\n",
    "    hls = cv2.cvtColor(img, convert_to_hls_flag)\n",
    "    return thresh(magnitude(\n",
    "            thresh(direction(\n",
    "                thresh(hls[:,:,2], (125, 256)),\n",
    "                sobel_kernel=5,\n",
    "                ), (0.7, 1.2),\n",
    "            ), \n",
    "            sobel_kernel=13,\n",
    "        ), (110, 256),\n",
    "    )\n",
    "\n",
    "\n",
    "def lane_selector(img, convert_to_hls_flag=cv2.COLOR_BGR2HLS, convert_to_gray_flag=cv2.COLOR_BGR2GRAY):\n",
    "    return or_binary(\n",
    "        asphalt_selector(img, convert_to_hls_flag=convert_to_hls_flag, convert_to_gray_flag=convert_to_gray_flag),\n",
    "        concrete_selector(img, convert_to_hls_flag=convert_to_hls_flag, convert_to_gray_flag=convert_to_gray_flag),\n",
    "    )\n",
    "\n",
    "def region_selector(i):\n",
    "    return region_of_interest(\n",
    "        i, \n",
    "        np.array([[\n",
    "            ((i.shape[1] * 1) / 16, i.shape[0]),\n",
    "            ((i.shape[1] * 7) / 16, i.shape[0] * .61),\n",
    "            ((i.shape[1] * 9) / 16, i.shape[0] * .61),\n",
    "            ((i.shape[1] * 15) / 16, i.shape[0])\n",
    "        ]], dtype=np.int32),\n",
    "    )\n",
    "\n",
    "print(\"Defined.\")\n"
   ]
  },
  {
   "cell_type": "code",
   "execution_count": null,
   "metadata": {},
   "outputs": [],
   "source": [
    "img = cv2.imread(\"test_images/straight_lines2.jpg\")\n",
    "rgb = lambda bgr: cv2.cvtColor(bgr, cv2.COLOR_BGR2RGB)\n",
    "\n",
    "asphalt = asphalt_selector(img)\n",
    "concrete = concrete_selector(img)\n",
    "lanes = lane_selector(img)\n",
    "\n",
    "f, (ax1, ax2, ax3, ax4) = plt.subplots(1, 4, figsize=(24, 9))\n",
    "f.tight_layout()\n",
    "ax1.imshow(rgb(img))\n",
    "ax2.imshow(asphalt, cmap='gray')\n",
    "ax3.imshow(concrete, cmap='gray')\n",
    "ax4.imshow(lanes, cmap='gray')\n",
    "plt.subplots_adjust(left=0., right=1, top=0.9, bottom=0.)"
   ]
  },
  {
   "cell_type": "code",
   "execution_count": null,
   "metadata": {},
   "outputs": [],
   "source": [
    "print(\"Processing sample images...\")\n",
    "\n",
    "for image_name in sorted(glob(\"test_images/*.jpg\"), key=lambda p: (len(p), p)):\n",
    "    img = cv2.imread(image_name)\n",
    "    directory = \"output_images/\" + os.path.basename(image_name)\n",
    "    try:\n",
    "        os.mkdir(directory)\n",
    "    except:\n",
    "        pass\n",
    "    print(directory)\n",
    "\n",
    "    cv2.imwrite(directory + \"/original.jpg\", img)\n",
    "    \n",
    "    # Undistort image (virtue of camera lens)\n",
    "    undis = undistort(img)\n",
    "    cv2.imwrite(directory + \"/undistorted.jpg\", undis)\n",
    "    \n",
    "    # Select lanes\n",
    "    asphalt = asphalt_selector(undis)  # for show\n",
    "    plt.imsave(directory + \"/asphalt_selector.jpg\", asphalt, cmap='gray')\n",
    "    concrete = concrete_selector(undis)  # for show\n",
    "    plt.imsave(directory + \"/concrete_selector.jpg\", concrete, cmap='gray')\n",
    "\n",
    "    lanes = lane_selector(undis)\n",
    "    plt.imsave(directory + \"/lane_selector.jpg\", lanes, cmap='gray')\n",
    "\n",
    "    region = region_selector(lanes)\n",
    "    plt.imsave(directory + \"/region_selector.jpg\", region, cmap='gray')\n",
    "\n",
    "print(\"Done.\")\n"
   ]
  },
  {
   "cell_type": "code",
   "execution_count": null,
   "metadata": {},
   "outputs": [],
   "source": []
  }
 ],
 "metadata": {
  "kernelspec": {
   "display_name": "Python 3",
   "language": "python",
   "name": "python3"
  },
  "language_info": {
   "codemirror_mode": {
    "name": "ipython",
    "version": 3
   },
   "file_extension": ".py",
   "mimetype": "text/x-python",
   "name": "python",
   "nbconvert_exporter": "python",
   "pygments_lexer": "ipython3",
   "version": "3.5.2"
  },
  "widgets": {
   "state": {},
   "version": "1.1.2"
  }
 },
 "nbformat": 4,
 "nbformat_minor": 2
}
